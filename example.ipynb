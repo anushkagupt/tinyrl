{
 "cells": [
  {
   "cell_type": "markdown",
   "metadata": {},
   "source": [
    "# Reinforcement Learning\n",
    "\n",
    "This notebook will demonstrate the working of the Q Learning and Value Iteration algorithms on the given stochastic GridWorld environment. \n",
    "\n",
    "Lets begin by importing GridWorld class, utility functions and value iteration and q learning algorithms."
   ]
  },
  {
   "cell_type": "code",
   "execution_count": 2,
   "metadata": {
    "collapsed": true
   },
   "outputs": [],
   "source": [
    "from environment import GridWorld, print_grid, play_game\n",
    "from value_iteration import value_iteration\n",
    "from q_learning import q_learning\n",
    "import matplotlib.pyplot as plt"
   ]
  },
  {
   "cell_type": "markdown",
   "metadata": {},
   "source": [
    "## Environment \n",
    "\n",
    "Lets create our environment by providing rewards and action dicts to GridWorld."
   ]
  },
  {
   "cell_type": "code",
   "execution_count": 3,
   "metadata": {
    "collapsed": true
   },
   "outputs": [],
   "source": [
    "rewards = {\n",
    "    (0, 0): -1, (0, 1): -1, (0, 2): -1, (0, 3): -1,\n",
    "    (1, 0): -1, (1, 1): -1, (1, 2): -1, (1, 3): -1,  # start state is 1x0\n",
    "    (2, 0): -1, (2, 1): -70, (2, 2): -1, (2, 3): -1,  # bad state is 2x1\n",
    "    (3, 0): -1, (3, 1): -1, (3, 2): -1, (3, 3): 100  # goal state is 3x3\n",
    "}\n",
    "\n",
    "actions = {\n",
    "    (0, 0): ['R', 'D'], (0, 1): ['R', 'L', 'D'],\n",
    "    (0, 2): ['R', 'L', 'D'], (0, 3): ['L', 'D'],\n",
    "    (1, 0): ['R', 'U', 'D'], (1, 1): ['R', 'L', 'U', 'D'],\n",
    "    (1, 2): ['R', 'L', 'U', 'D'], (1, 3): ['L', 'U', 'D'],\n",
    "    (2, 0): ['R', 'U', 'D'], (2, 1): ['R', 'L', 'U', 'D'],\n",
    "    (2, 2): ['R', 'L', 'U', 'D'], (2, 3): ['L', 'U', 'D'],\n",
    "    (3, 0): ['R', 'U'], (3, 1): ['R', 'L', 'U'],\n",
    "    (3, 2): ['R', 'L', 'U'], (3, 3): []\n",
    "}\n",
    "\n",
    "env = GridWorld(size=(4, 4), rewards=rewards, actions=actions)"
   ]
  },
  {
   "cell_type": "markdown",
   "metadata": {},
   "source": [
    "## Value Iteration\n",
    "\n",
    "Now lets run **Value Iteration** algorithm on our environment. We provide GridWorld object, start state and stopping state as the arguments *value_iteration* function.\n",
    "\n",
    "This function returns policy dict, V (state-value) dict and stats dict (used for visualization)."
   ]
  },
  {
   "cell_type": "code",
   "execution_count": 4,
   "metadata": {
    "collapsed": true
   },
   "outputs": [],
   "source": [
    "policy, V, stats = value_iteration(env,start=(1,0),stop=(3,3))"
   ]
  },
  {
   "cell_type": "markdown",
   "metadata": {},
   "source": [
    "Lets print out the policy returned by our algorithm."
   ]
  },
  {
   "cell_type": "code",
   "execution_count": 5,
   "metadata": {},
   "outputs": [
    {
     "name": "stdout",
     "output_type": "stream",
     "text": [
      "[['R' 'R' 'R' 'D']\n",
      " ['U' 'U' 'R' 'D']\n",
      " ['D' 'R' 'R' 'D']\n",
      " ['R' 'R' 'R' 'U']]\n"
     ]
    }
   ],
   "source": [
    "print_grid(env, policy)"
   ]
  },
  {
   "cell_type": "markdown",
   "metadata": {},
   "source": [
    "Here we can observe the optimal policy that *value_iteration* has converged on. We notice that the policy tries to avoid the bad state and takes the path along top right edge of the grid. \n",
    "\n",
    "Lets also print the state-value for the states."
   ]
  },
  {
   "cell_type": "code",
   "execution_count": 6,
   "metadata": {},
   "outputs": [
    {
     "name": "stdout",
     "output_type": "stream",
     "text": [
      "[[86.36413640238297 88.96553043345659 91.58232574832843 93.69969985383423]\n",
      " [84.37867721159373 87.1196669488651 93.99527972321908 96.4100771203664]\n",
      " [76.335435930807 92.97504454302948 96.68547553197288 99.19185503857933]\n",
      " [85.1940856411934 88.63980510086662 99.19185503857932 0]]\n"
     ]
    }
   ],
   "source": [
    "print_grid(env, V)"
   ]
  },
  {
   "cell_type": "markdown",
   "metadata": {},
   "source": [
    "## Q Learning\n",
    "\n",
    "Now lets run **Q Learning** algorithm on our environment. We provide GridWorld object, number of episodes, epsilon, alpha, start state and stopping state as the arguments *q_learning* function.\n",
    "\n",
    "This function also returns policy dict, V (action-value) dict and stats dict (used for visualization)."
   ]
  },
  {
   "cell_type": "code",
   "execution_count": 12,
   "metadata": {
    "collapsed": true
   },
   "outputs": [],
   "source": [
    "num_episodes = 500\n",
    "epsilon = 0.05\n",
    "alpha = 0.5\n",
    "policy, V, stats = q_learning(env,num_episodes,epsilon,alpha,(1,0),(3,3))"
   ]
  },
  {
   "cell_type": "markdown",
   "metadata": {},
   "source": [
    "Lets see the optimal policy *q_learning* has converged on"
   ]
  },
  {
   "cell_type": "code",
   "execution_count": 10,
   "metadata": {},
   "outputs": [
    {
     "name": "stdout",
     "output_type": "stream",
     "text": [
      "[['R' 'R' 'R' 'D']\n",
      " ['U' 'L' 'R' 'D']\n",
      " ['U' 'R' 'R' 'D']\n",
      " ['R' 'D' 'U' 'G']]\n",
      "[[87.90857101096165 90.55445946227431 93.18449078484352 95.64985137941744]\n",
      " [85.04759048430587 82.78819913443832 94.57910721952967 97.81409620095857]\n",
      " [70.20014899887758 93.4579579237285 96.79743181752912 98.91176149407829]\n",
      " [69.0197720897543 63.99806235248216 96.06825730719501 0]]\n"
     ]
    }
   ],
   "source": [
    "print_grid(env, policy)\n",
    "print_grid(env, V)"
   ]
  },
  {
   "cell_type": "markdown",
   "metadata": {},
   "source": [
    "### Learning Rate and Q Learning\n",
    "\n",
    "Our learning rate parameter controls the step we take in direction of TD error. For our initial run above, we have supplied alpha as 0.5. \n",
    "\n",
    "Lets define a function to plot the average q-values for each episode and observe how we did for apha=0.5."
   ]
  },
  {
   "cell_type": "code",
   "execution_count": 13,
   "metadata": {},
   "outputs": [
    {
     "data": {
      "image/png": "[encoded data removed]",
      "text/plain": [
       "<matplotlib.figure.Figure at 0x10e315470>"
      ]
     },
     "metadata": {},
     "output_type": "display_data"
    }
   ],
   "source": [
    "def plot_average_value(stats):\n",
    "    average_q = []\n",
    "    for episode in range(num_episodes):\n",
    "        v = 0\n",
    "        for i in range(env.num_states):\n",
    "            v += stats[episode]['score'][i]\n",
    "        average_q.append(v/env.num_states - 1)\n",
    "    plt.plot(average_q)\n",
    "    plt.show()\n",
    "    \n",
    "plot_average_value(stats)"
   ]
  },
  {
   "cell_type": "markdown",
   "metadata": {},
   "source": [
    "We can observe that our q-values went through some disturabances, but started to flatten somewhat close to 500th episode."
   ]
  },
  {
   "cell_type": "code",
   "execution_count": 15,
   "metadata": {},
   "outputs": [
    {
     "data": {
      "image/png": "[encoded data removed]",
      "text/plain": [
       "<matplotlib.figure.Figure at 0x10d7cd0b8>"
      ]
     },
     "metadata": {},
     "output_type": "display_data"
    }
   ],
   "source": [
    "num_episodes = 500\n",
    "epsilon = 0.05\n",
    "alpha = 0.3\n",
    "policy, V, stats = q_learning(env,num_episodes,epsilon,alpha,(1,0),(3,3))\n",
    "plot_average_value(stats)"
   ]
  },
  {
   "cell_type": "markdown",
   "metadata": {},
   "source": [
    "When our alpha is 0.3, we can observe that our updates are not as aggressive and generally smooth. We can notice that the values have not converged yet and less than when we used epsilon 0.5."
   ]
  },
  {
   "cell_type": "code",
   "execution_count": 17,
   "metadata": {},
   "outputs": [
    {
     "data": {
      "image/png": "[encoded data removed]",
      "text/plain": [
       "<matplotlib.figure.Figure at 0x10eb3ad30>"
      ]
     },
     "metadata": {},
     "output_type": "display_data"
    }
   ],
   "source": [
    "num_episodes = 500\n",
    "epsilon = 0.05\n",
    "alpha = 0.8\n",
    "policy, V, stats = q_learning(env,num_episodes,epsilon,alpha,(1,0),(3,3))\n",
    "plot_average_value(stats)"
   ]
  },
  {
   "cell_type": "markdown",
   "metadata": {},
   "source": [
    "When alpha is 0.8, we see that the updates are very aggressive, and we form a lot of local mininas. We also notice that values slightly decreased after 300th episode and are slowly settling."
   ]
  }
 ],
 "metadata": {
  "kernelspec": {
   "display_name": "Python 3",
   "language": "python",
   "name": "python3"
  },
  "language_info": {
   "codemirror_mode": {
    "name": "ipython",
    "version": 3
   },
   "file_extension": ".py",
   "mimetype": "text/x-python",
   "name": "python",
   "nbconvert_exporter": "python",
   "pygments_lexer": "ipython3",
   "version": "3.6.1"
  }
 },
 "nbformat": 4,
 "nbformat_minor": 2
}
